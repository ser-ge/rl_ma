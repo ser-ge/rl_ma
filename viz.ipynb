{
 "cells": [
  {
   "cell_type": "code",
   "execution_count": null,
   "id": "inappropriate-boulder",
   "metadata": {
    "lines_to_next_cell": 1
   },
   "outputs": [],
   "source": [
    "from plot_to_gif import GifWrapper\n",
    "import gym\n",
    "import ma_gym\n",
    "from pathlib import Path\n",
    "\n",
    "\n",
    "def load_agents(num_agents, agents_dir=\".\"):\n",
    "    agents = [Agent() for a in range(num_agents)]\n",
    "    for i, a in enumerate(agents):\n",
    "        model_path = Path(agents_dir) / Path(f\"agent_{i}\")\n",
    "        a.policy_net.load_state_dict(torch.load(model_path))\n",
    "    return agents"
   ]
  },
  {
   "cell_type": "code",
   "execution_count": null,
   "id": "utility-focus",
   "metadata": {
    "lines_to_next_cell": 0
   },
   "outputs": [],
   "source": [
    "ENV = \"Switch4-v0\"\n",
    "num_agents = int(ENV[6])j\n",
    "env = gym.make(ENV, max_steps=ENV_STEPS) # Use \"Switch4-v0\" for the Switch-4 game\n",
    "env = GifWrapper(env)\n",
    "agents = load_agents(num_agents)\n",
    "\n",
    "for a in agent:\n",
    "    a.train = False"
   ]
  },
  {
   "cell_type": "code",
   "execution_count": null,
   "id": "decreased-hydrogen",
   "metadata": {
    "lines_to_next_cell": 0
   },
   "outputs": [],
   "source": [
    "agents, eps_reward, obs, num_done_test = run_episode(agents, env, train=False, explore=False)"
   ]
  },
  {
   "cell_type": "code",
   "execution_count": null,
   "id": "unnecessary-variance",
   "metadata": {
    "lines_to_next_cell": 2
   },
   "outputs": [],
   "source": [
    "env.show()\n",
    "\n",
    "\n",
    "\n",
    "\n"
   ]
  }
 ],
 "metadata": {
  "jupytext": {
   "cell_metadata_filter": "-all",
   "main_language": "python",
   "notebook_metadata_filter": "-all"
  }
 },
 "nbformat": 4,
 "nbformat_minor": 5
}
